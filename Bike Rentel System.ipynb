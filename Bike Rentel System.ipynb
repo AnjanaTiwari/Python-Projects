{
 "cells": [
  {
   "cell_type": "code",
   "execution_count": 1,
   "id": "11879b62",
   "metadata": {},
   "outputs": [],
   "source": [
    "# Display Available bikes\n",
    "# Request a bike for rent(100 rs->1qty)\n",
    "# Exit"
   ]
  },
  {
   "cell_type": "code",
   "execution_count": 10,
   "id": "558ef72e",
   "metadata": {},
   "outputs": [
    {
     "name": "stdout",
     "output_type": "stream",
     "text": [
      "\n",
      "   1. Display Stocks\n",
      "   2. Rent a Bike\n",
      "   3. Exit\n",
      "    1\n",
      "Total Bikes 100\n",
      "\n",
      "   1. Display Stocks\n",
      "   2. Rent a Bike\n",
      "   3. Exit\n",
      "    2\n",
      "Enter the Qty:---101\n",
      "Enter the value (less than stock)\n",
      "\n",
      "   1. Display Stocks\n",
      "   2. Rent a Bike\n",
      "   3. Exit\n",
      "    2\n",
      "Enter the Qty:---10\n",
      "Total Prices 1000\n",
      "Total Bikes 90\n",
      "\n",
      "   1. Display Stocks\n",
      "   2. Rent a Bike\n",
      "   3. Exit\n",
      "    3\n"
     ]
    }
   ],
   "source": [
    "class bikeshop:\n",
    "    def __init__(self,stock):\n",
    "        self.stock=stock\n",
    "    def displaybike(self):\n",
    "        print(\"Total Bikes\",self.stock)\n",
    "    def rentforbike(self,quantity):\n",
    "        if quantity<=0:\n",
    "            print(\"Enter the positive value or greater than 0\")\n",
    "        elif quantity>self.stock:\n",
    "            print(\"Enter the value (less than stock)\")\n",
    "        else:\n",
    "            self.stock=self.stock-quantity\n",
    "            print(\"Total Prices\",quantity*100)\n",
    "            print(\"Total Bikes\",self.stock)\n",
    "while True:\n",
    "    obj=bikeshop(100)\n",
    "    userchoice=int(input(\"\"\"\n",
    "   1. Display Stocks\n",
    "   2. Rent a Bike\n",
    "   3. Exit\n",
    "    \"\"\"))\n",
    "    if userchoice==1:\n",
    "        obj.displaybike()\n",
    "    elif userchoice==2:\n",
    "        n=int(input(\"Enter the Qty:---\"))\n",
    "        obj.rentforbike(n)\n",
    "    else:\n",
    "        break"
   ]
  },
  {
   "cell_type": "code",
   "execution_count": null,
   "id": "a6e166c3",
   "metadata": {},
   "outputs": [],
   "source": []
  }
 ],
 "metadata": {
  "kernelspec": {
   "display_name": "Python 3 (ipykernel)",
   "language": "python",
   "name": "python3"
  },
  "language_info": {
   "codemirror_mode": {
    "name": "ipython",
    "version": 3
   },
   "file_extension": ".py",
   "mimetype": "text/x-python",
   "name": "python",
   "nbconvert_exporter": "python",
   "pygments_lexer": "ipython3",
   "version": "3.9.12"
  }
 },
 "nbformat": 4,
 "nbformat_minor": 5
}
