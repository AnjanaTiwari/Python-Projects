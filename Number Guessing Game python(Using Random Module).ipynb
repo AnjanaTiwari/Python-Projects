{
 "cells": [
  {
   "cell_type": "code",
   "execution_count": 11,
   "id": "fa7e5be4",
   "metadata": {},
   "outputs": [
    {
     "name": "stdout",
     "output_type": "stream",
     "text": [
      "Enter Your Number:-8\n",
      "Computer Number 8\n",
      "Your guess number is equal\n"
     ]
    }
   ],
   "source": [
    "import random as re\n",
    "C=re.randrange(1,10)\n",
    "U= int(input(\"Enter Your Number:-\"))\n",
    "if U>C:\n",
    "    print(\"Computer Number\",C)\n",
    "    print(\"Your guess number is high\")\n",
    "elif U<C:\n",
    "    print(\"Computer Number\",C)\n",
    "    print(\"Your guess number is low\")\n",
    "else:\n",
    "    print(\"Computer Number\",C)\n",
    "    print(\"Your guess number is equal\")"
   ]
  },
  {
   "cell_type": "code",
   "execution_count": null,
   "id": "69b56a13",
   "metadata": {},
   "outputs": [],
   "source": []
  }
 ],
 "metadata": {
  "kernelspec": {
   "display_name": "Python 3 (ipykernel)",
   "language": "python",
   "name": "python3"
  },
  "language_info": {
   "codemirror_mode": {
    "name": "ipython",
    "version": 3
   },
   "file_extension": ".py",
   "mimetype": "text/x-python",
   "name": "python",
   "nbconvert_exporter": "python",
   "pygments_lexer": "ipython3",
   "version": "3.9.12"
  }
 },
 "nbformat": 4,
 "nbformat_minor": 5
}
